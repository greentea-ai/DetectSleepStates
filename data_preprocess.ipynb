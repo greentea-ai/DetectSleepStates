{
  "cells": [
    {
      "cell_type": "markdown",
      "metadata": {},
      "source": [
        "[![Open In Colab](https://colab.research.google.com/assets/colab-badge.svg)](https://colab.research.google.com/github/greentea-ai/DetectSleepStates/blob/milestone1/data_preprocess.ipynb)"
      ]
    },
    {
      "cell_type": "markdown",
      "metadata": {
        "id": "mf9RQ_P6twFJ"
      },
      "source": [
        "### Downloading data"
      ]
    },
    {
      "cell_type": "code",
      "execution_count": null,
      "metadata": {
        "colab": {
          "base_uri": "https://localhost:8080/"
        },
        "id": "w9kXfJitQfwQ",
        "outputId": "bfdbfe34-9dbe-48d8-abb0-078e0849607e"
      },
      "outputs": [],
      "source": [
        "!mkdir -p ~/.kaggle\n",
        "!wget -O ~/.kaggle/kaggle.json \"https://drive.google.com/uc?export=download&id=1eN1kfpt1EQS-KQk-A9M2hWO-uhEBMwE0\"\n",
        "!chmod 600 ~/.kaggle/kaggle.json"
      ]
    },
    {
      "cell_type": "code",
      "execution_count": null,
      "metadata": {
        "colab": {
          "base_uri": "https://localhost:8080/"
        },
        "id": "IjuiR-ZzQtEe",
        "outputId": "c588d806-4424-4127-ece0-9cd9c81ee2f4"
      },
      "outputs": [],
      "source": [
        "!kaggle competitions download 'child-mind-institute-detect-sleep-states'\n",
        "!mkdir -p data\n",
        "!unzip -qqn child-mind-institute-detect-sleep-states.zip -d data"
      ]
    },
    {
      "cell_type": "markdown",
      "metadata": {
        "id": "S0uyiB8nt4Eg"
      },
      "source": [
        "### Preprocessing"
      ]
    },
    {
      "cell_type": "code",
      "execution_count": null,
      "metadata": {
        "id": "IwDMSMuWQteZ"
      },
      "outputs": [],
      "source": [
        "import gc\n",
        "import os\n",
        "import pyarrow as pa\n",
        "import pyarrow.parquet\n",
        "import pandas as pd\n",
        "import numpy as np"
      ]
    },
    {
      "cell_type": "code",
      "execution_count": null,
      "metadata": {
        "colab": {
          "base_uri": "https://localhost:8080/"
        },
        "id": "7OTKFph_Q2QS",
        "outputId": "c09e570b-d299-47f0-c6ad-e3c8a80422bc"
      },
      "outputs": [],
      "source": [
        "train_events = pd.read_csv(\n",
        "    'data/train_events.csv',\n",
        "    dtype={\n",
        "        'series_id': 'str',\n",
        "        'night': 'Int32',\n",
        "        'event': 'str',\n",
        "        'step': 'Int64',\n",
        "    }\n",
        ")\n",
        "series_list = train_events['series_id'].unique()\n",
        "n_series = len(series_list)\n",
        "print(series_list)"
      ]
    },
    {
      "cell_type": "code",
      "execution_count": null,
      "metadata": {
        "id": "d-OFDsWmd3B-"
      },
      "outputs": [],
      "source": [
        "train_events = train_events[pd.notna(train_events['step'])]"
      ]
    },
    {
      "cell_type": "code",
      "execution_count": null,
      "metadata": {
        "id": "4YdK6fTmEtuN"
      },
      "outputs": [],
      "source": [
        "data_root = 'data'"
      ]
    },
    {
      "cell_type": "code",
      "execution_count": null,
      "metadata": {
        "id": "BgG-yNDfQ27R"
      },
      "outputs": [],
      "source": [
        "series_schema = pa.schema([\n",
        "    ('series_id', pa.string()),\n",
        "    ('step', pa.uint32()),\n",
        "    ('timestamp', pa.timestamp('s', tz='UTC')),\n",
        "    ('anglez', pa.float32()),\n",
        "    ('enmo', pa.float32())\n",
        "])\n",
        "\n",
        "train_series = pyarrow.parquet.read_table(os.path.join(data_root, 'train_series.parquet'), schema=series_schema)\n",
        "\n",
        "display(train_series)"
      ]
    },
    {
      "cell_type": "code",
      "execution_count": null,
      "metadata": {
        "id": "aOr3U6qgGAm7"
      },
      "outputs": [],
      "source": [
        "X = [] # input data\n",
        "Y = [] # labels"
      ]
    },
    {
      "cell_type": "code",
      "execution_count": null,
      "metadata": {
        "id": "stWBFq4vLukB"
      },
      "outputs": [],
      "source": [
        "from datetime import datetime\n",
        "from sklearn.preprocessing import StandardScaler\n",
        "from sklearn.model_selection import train_test_split"
      ]
    },
    {
      "cell_type": "code",
      "execution_count": null,
      "metadata": {
        "id": "VZJIeJTcF3b5"
      },
      "outputs": [],
      "source": [
        "def get_timeofday(date):\n",
        "  return date.second // 5 + date.minute * 12 + date.hour * 720"
      ]
    },
    {
      "cell_type": "code",
      "execution_count": null,
      "metadata": {
        "id": "MZZnflaiRdIo"
      },
      "outputs": [],
      "source": [
        "def get_timeofday_series(len_series, first_step_of_day):\n",
        "  valuesForDay = np.linspace(0, 1, 17280, endpoint= True)\n",
        "  series = np.empty(len_series)\n",
        "  idx = 17280 - first_step_of_day\n",
        "  series[0:idx] = valuesForDay[first_step_of_day:]\n",
        "  while (idx < len_series):\n",
        "    series[idx:idx+17280] = valuesForDay[:min(17280, len_series - idx)]\n",
        "    idx += 17280\n",
        "  return series"
      ]
    },
    {
      "cell_type": "code",
      "execution_count": null,
      "metadata": {
        "id": "zQIFLznGPXbx"
      },
      "outputs": [],
      "source": [
        "def preprocess_series(series_id):\n",
        "  series = train_series.filter(pa.compute.field('series_id') == series_id)\n",
        "  events = train_events[train_events['series_id'] == series_id].reset_index()\n",
        "  \n",
        "  len_series = len(series)\n",
        "  series_data = np.empty([3, len_series])\n",
        "  labels = np.zeros([2, len_series], dtype='int32')\n",
        "\n",
        "  series_data[1] = series['enmo'].to_numpy()\n",
        "  series_data[2] = series['anglez'].to_numpy()\n",
        "\n",
        "  series_data[1] = StandardScaler().fit_transform(series_data[1].reshape(-1, 1)).reshape(-1,)\n",
        "  series_data[2] = StandardScaler().fit_transform(series_data[2].reshape(-1, 1)).reshape(-1,)\n",
        "\n",
        "  start_time = get_timeofday(series['timestamp'][0].as_py())\n",
        "\n",
        "  series_data[0] = get_timeofday_series(len_series, start_time)\n",
        "\n",
        "  for i in range(0, len(events)):\n",
        "    if pd.isna(events['step'][i]):\n",
        "      continue\n",
        "    if i % 2 == 0:\n",
        "      labels[0, events['step'][i]] = 1\n",
        "    elif i % 2 == 1:\n",
        "      labels[1, events['step'][i]] = 1\n",
        "\n",
        "  return series_data, labels"
      ]
    },
    {
      "cell_type": "code",
      "execution_count": null,
      "metadata": {
        "colab": {
          "base_uri": "https://localhost:8080/"
        },
        "id": "XEyAGgp6GGBN",
        "outputId": "6139ac6b-3784-430f-8556-9f88f60cade9"
      },
      "outputs": [],
      "source": [
        "for idx, series_id in enumerate(series_list):\n",
        "  print(f'[{idx + 1}/{n_series}] Processing series {series_id}')\n",
        "  series, labels = preprocess_series(series_id)\n",
        "  # temp memory deallocation to prevent crash in colab\n",
        "  if idx == 150:\n",
        "    train_series = train_series[50_000_000:]\n",
        "    gc.collect()\n",
        "  X.append(series)\n",
        "  Y.append(labels)"
      ]
    },
    {
      "cell_type": "code",
      "execution_count": null,
      "metadata": {
        "colab": {
          "base_uri": "https://localhost:8080/"
        },
        "id": "Q3f8NOYDTEBn",
        "outputId": "abb4ffd5-c09b-4e97-f4a5-da3c32076846"
      },
      "outputs": [],
      "source": [
        "train_series = None\n",
        "gc.collect()"
      ]
    },
    {
      "cell_type": "code",
      "execution_count": null,
      "metadata": {
        "colab": {
          "base_uri": "https://localhost:8080/"
        },
        "id": "RmdvaiVuagZF",
        "outputId": "1e05b819-71a4-4c9e-b747-bdbe31bb3cb3"
      },
      "outputs": [],
      "source": [
        "print(len(X))\n",
        "print(len(Y))"
      ]
    },
    {
      "cell_type": "code",
      "execution_count": null,
      "metadata": {
        "id": "tJRX2lfqhxdl"
      },
      "outputs": [],
      "source": [
        "X_train, X_valid, Y_train, Y_valid = train_test_split(X, Y, test_size=0.15)"
      ]
    },
    {
      "cell_type": "code",
      "execution_count": null,
      "metadata": {
        "colab": {
          "base_uri": "https://localhost:8080/"
        },
        "id": "bM23ni1nia2x",
        "outputId": "2067782a-52b9-4552-91fa-7bced0c07b18"
      },
      "outputs": [],
      "source": [
        "print(len(X_train), len(Y_train))\n",
        "print(len(X_valid), len(Y_valid))"
      ]
    }
  ],
  "metadata": {
    "colab": {
      "provenance": []
    },
    "kernelspec": {
      "display_name": "Python 3",
      "name": "python3"
    },
    "language_info": {
      "codemirror_mode": {
        "name": "ipython",
        "version": 3
      },
      "file_extension": ".py",
      "mimetype": "text/x-python",
      "name": "python",
      "nbconvert_exporter": "python",
      "pygments_lexer": "ipython3",
      "version": "3.10.12"
    }
  },
  "nbformat": 4,
  "nbformat_minor": 0
}
