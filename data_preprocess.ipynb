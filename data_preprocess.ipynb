{
  "nbformat": 4,
  "nbformat_minor": 0,
  "metadata": {
    "colab": {
      "provenance": []
    },
    "kernelspec": {
      "name": "python3",
      "display_name": "Python 3"
    },
    "language_info": {
      "name": "python"
    }
  },
  "cells": [
    {
      "cell_type": "markdown",
      "source": [
        "### Downloading data"
      ],
      "metadata": {
        "id": "mf9RQ_P6twFJ"
      }
    },
    {
      "cell_type": "code",
      "execution_count": 1,
      "metadata": {
        "colab": {
          "base_uri": "https://localhost:8080/"
        },
        "id": "w9kXfJitQfwQ",
        "outputId": "bfdbfe34-9dbe-48d8-abb0-078e0849607e"
      },
      "outputs": [
        {
          "output_type": "stream",
          "name": "stdout",
          "text": [
            "--2023-10-23 22:25:35--  https://drive.google.com/uc?export=download&id=1eN1kfpt1EQS-KQk-A9M2hWO-uhEBMwE0\n",
            "Resolving drive.google.com (drive.google.com)... 142.251.163.138, 142.251.163.113, 142.251.163.139, ...\n",
            "Connecting to drive.google.com (drive.google.com)|142.251.163.138|:443... connected.\n",
            "HTTP request sent, awaiting response... 303 See Other\n",
            "Location: https://doc-14-80-docs.googleusercontent.com/docs/securesc/ha0ro937gcuc7l7deffksulhg5h7mbp1/qrgokhjl9frs20s4udb4s5nmb6675g3r/1698099900000/12009704024140886017/*/1eN1kfpt1EQS-KQk-A9M2hWO-uhEBMwE0?e=download&uuid=41867bbc-e08a-4518-ba09-0bac15ebf2ba [following]\n",
            "Warning: wildcards not supported in HTTP.\n",
            "--2023-10-23 22:25:35--  https://doc-14-80-docs.googleusercontent.com/docs/securesc/ha0ro937gcuc7l7deffksulhg5h7mbp1/qrgokhjl9frs20s4udb4s5nmb6675g3r/1698099900000/12009704024140886017/*/1eN1kfpt1EQS-KQk-A9M2hWO-uhEBMwE0?e=download&uuid=41867bbc-e08a-4518-ba09-0bac15ebf2ba\n",
            "Resolving doc-14-80-docs.googleusercontent.com (doc-14-80-docs.googleusercontent.com)... 172.253.62.132, 2607:f8b0:4004:c07::84\n",
            "Connecting to doc-14-80-docs.googleusercontent.com (doc-14-80-docs.googleusercontent.com)|172.253.62.132|:443... connected.\n",
            "HTTP request sent, awaiting response... 200 OK\n",
            "Length: 65 [application/json]\n",
            "Saving to: ‘/root/.kaggle/kaggle.json’\n",
            "\n",
            "/root/.kaggle/kaggl 100%[===================>]      65  --.-KB/s    in 0s      \n",
            "\n",
            "2023-10-23 22:25:35 (5.92 MB/s) - ‘/root/.kaggle/kaggle.json’ saved [65/65]\n",
            "\n"
          ]
        }
      ],
      "source": [
        "!mkdir ~/.kaggle\n",
        "!wget -O ~/.kaggle/kaggle.json \"https://drive.google.com/uc?export=download&id=1eN1kfpt1EQS-KQk-A9M2hWO-uhEBMwE0\"\n",
        "!chmod 600 ~/.kaggle/kaggle.json"
      ]
    },
    {
      "cell_type": "code",
      "source": [
        "!kaggle competitions download 'child-mind-institute-detect-sleep-states'\n",
        "!mkdir data\n",
        "!unzip child-mind-institute-detect-sleep-states.zip -d data"
      ],
      "metadata": {
        "colab": {
          "base_uri": "https://localhost:8080/"
        },
        "id": "IjuiR-ZzQtEe",
        "outputId": "c588d806-4424-4127-ece0-9cd9c81ee2f4"
      },
      "execution_count": 2,
      "outputs": [
        {
          "output_type": "stream",
          "name": "stdout",
          "text": [
            "Downloading child-mind-institute-detect-sleep-states.zip to /content\n",
            " 99% 803M/811M [00:08<00:00, 89.4MB/s]\n",
            "100% 811M/811M [00:09<00:00, 85.5MB/s]\n",
            "Archive:  child-mind-institute-detect-sleep-states.zip\n",
            "  inflating: data/sample_submission.csv  \n",
            "  inflating: data/test_series.parquet  \n",
            "  inflating: data/train_events.csv   \n",
            "  inflating: data/train_series.parquet  \n"
          ]
        }
      ]
    },
    {
      "cell_type": "markdown",
      "source": [
        "### Preprocessing"
      ],
      "metadata": {
        "id": "S0uyiB8nt4Eg"
      }
    },
    {
      "cell_type": "code",
      "source": [
        "import gc\n",
        "import os\n",
        "import pyarrow as pa\n",
        "import pyarrow.parquet\n",
        "import pandas as pd\n",
        "import numpy as np"
      ],
      "metadata": {
        "id": "IwDMSMuWQteZ"
      },
      "execution_count": 1,
      "outputs": []
    },
    {
      "cell_type": "code",
      "source": [
        "train_events = pd.read_csv(\n",
        "    'data/train_events.csv',\n",
        "    dtype={\n",
        "        'series_id': 'str',\n",
        "        'night': 'Int32',\n",
        "        'event': 'str',\n",
        "        'step': 'Int64',\n",
        "    }\n",
        ")\n",
        "series_list = train_events['series_id'].unique().tolist()\n",
        "n_series = len(series_list)\n",
        "print(series_list)"
      ],
      "metadata": {
        "colab": {
          "base_uri": "https://localhost:8080/"
        },
        "id": "7OTKFph_Q2QS",
        "outputId": "c09e570b-d299-47f0-c6ad-e3c8a80422bc"
      },
      "execution_count": 2,
      "outputs": [
        {
          "output_type": "stream",
          "name": "stdout",
          "text": [
            "['038441c925bb', '03d92c9f6f8a', '0402a003dae9', '04f547b8017d', '05e1944c3818', '062cae666e2a', '062dbd4c95e6', '08db4255286f', '0a96f4993bd7', '0cd1e3d0ed95', '0ce74d6d2106', '0cfc06c129cc', '0d0ad1e77851', '0dee4fda51c3', '0ec9fc461819', '0ef7d94fde99', '0f572d690310', '0f9e60a8e56d', '10469f6765bf', '1087d7b0ff2e', '10f8bc1f7b07', '12d01911d509', '1319a1935f48', '137771d19ca2', '137b99e936ab', '13b4d6a01d27', '148471991ffb', '154fe824ed87', '16fe2798ed0f', '1716cd4163b2', '1762ab70ec76', '188d4b7cd28b', '18a0ca03431d', '18b61dd5aae8', '1955d568d987', '1b92be89db4c', '1c7c0bad1263', '1d4569cbac0f', '1e6717d93c1d', '1f96b9668bdf', '207eded97727', '25e2b3dd9c3b', '2654a87be968', '27f09a6a858f', '280e08693c6d', '292a75c0b94e', '29c75c018220', '29d3469bd15d', '2b0a1fa8eba8', '2b8d87addea9', '2cd2340ca14d', '2e9ced2c7976', '2f7504d0f426', '2fbbee1a38e3', '2fc653ca75c7', '31011ade7c0a', '3318a0e3ed6f', '33ceeba8918a', '3452b878e596', '349c5562ee2c', '35826366dfc7', '361366da569e', '3664fe9233f9', '3665c86afaf5', '390b487231ce', '3a9a9dc2cbd9', '3aceb17ef7bd', '3be1545083b7', '3be2f86c3e45', '3c336d6ba566', '3d53bfea61d6', '3df0da2e5966', '405df1b41f9f', '40dce6018935', '416354edd92a', '449766346eb1', '44a41bba1ee7', '44d8c02b369e', '4743bdde25df', '483d6545417f', '4a31811f3558', '4ab54be1a403', '4ac356361be9', '4b45c36f8f5a', '4feda0596965', '519ae2d858b0', '51b23d177971', '51c49c540b4e', '51fdcc8d9fe7', '559ffb7c166a', '55a47ff9dc8a', '55b7f5c99930', '599ca4ed791b', '5aad18e7ce64', '5acc9d63b5fd', '5c088d7e916c', '5c55a5e717d6', '5e816f11f5c3', '5f40907ec171', '5f76965e10cf', '5f94bb3e1bed', '5ffd5e1e81ac', '601559e1777d', '60d31b0bec3b', '60e51cad2ffb', '612aa8ba44e2', '653622ac8363', '655f19eabf1e', '67f5fc60e494', '694faf956ebf', '6a4cd123bd69', '6bf95a3cf91c', '6ca4f4fca6a2', '6d6b9d22d48a', '6ee4ade1f2bd', '702bb5387b1e', '703b5efa9bc1', '72ba4a8afff4', '72bbd1ac3edf', '72d2234e84e4', '73fb772e50fb', '7476c0bd18d2', '7504165f497d', '752900afe3a6', '76237b9406d5', '77ca4db83644', '7822ee8fe3ec', '78569a801a38', '785c9ca4eff7', '7df249527c63', '7fd4284b7ee8', '804594bb1f06', '808652a666c6', '83fa182bec3a', '844f54dcab89', '854206f602d0', '87a6cbb7c4ed', '8877a6586606', '8898e6db816d', '89bd631d1769', '89c7daa72eee', '8a22387617c3', '8a306e0890c0', '8b159a98f485', '8b8b9e29171c', '8becc76ea607', '8e32047cbc1f', '8f6f15b9f598', '8fb18e36697d', '90eac42a9ec9', '91127c2b0e60', '91cb6c98201f', '9277be28a1cf', '927dd0c35dfd', '939932f1822d', '971207c6a525', '99237ce045e4', '99b829cbad2d', '9a340507e36a', '9aed9ee12ae2', '9b9cd7b7af8c', '9c91c546e095', '9ddd40f2cb36', '9ee455e4770d', '9fbdeffbe2ba', 'a167532acca2', 'a261bc4b7470', 'a2b0a64ec9cf', 'a3e59c2ce3f6', 'a4e48102f402', 'a596ad0b82aa', 'a681f9b04b21', 'a81f4472c637', 'a88088855de5', 'a9a2f7fac455', 'a9e5f5314bcb', 'aa81faa78747', 'ad425f3ee76d', 'aed3850f65f0', 'af91d9a50547', 'b1831c4979da', 'b364205aba43', 'b4b75225b224', 'b7188813d58a', 'b737f8c78ec5', 'b750c8c1556c', 'b7fc34995d0f', 'b84960841a75', 'ba8083a2c3b8', 'bb5612895813', 'bccf2f2819f8', 'bdfce9ce62b9', 'bf00506437aa', 'bfa54bd26187', 'bfe41e96d12f', 'c107b5789660', 'c289c8a823e0', 'c3072a759efb', 'c38707ef76df', 'c535634d7dcd', 'c5365a55ebb7', 'c5d08fc3e040', 'c6788e579967', 'c68260cc9e8f', 'c75b4b207bea', 'c7b1283bb7eb', 'c7b2155a4a47', 'c7d693f24684', 'c8053490cec2', 'c908a0ad3e31', 'ca730dbf521d', 'ca732a3c37f7', 'cca14d1966c1', 'ccdee561ee5d', 'ce85771a714c', 'ce9164297046', 'cf13ed7e457a', 'cfeb11428dd7', 'd043c0ca71cd', 'd0f613c700f7', 'd150801f3145', 'd25e479ecbb7', 'd2d6b9af0553', 'd2fef7e4defd', 'd3dddd3c0e00', 'd515236bdeec', 'd5be621fd9aa', 'd5e47b94477e', 'd8de352c2657', 'd93b0c7de16b', 'd9e887091a5c', 'dacc6d652e35', 'db5e0ee1c0ab', 'db75092f0530', 'dc80ca623d71', 'de6fedfb6139', 'def21f50dd3c', 'df33ae359fb5', 'dfc3ccebfdc9', 'dff367373725', 'e0686434d029', 'e0d7b0dcf9f3', 'e11b9d69f856', 'e1f2a4f991cb', 'e1f5abb82285', 'e2a849d283c0', 'e2b60820c325', 'e30cb792a2bc', 'e34b496b84ce', 'e4500e7e19e1', 'e586cbfa7762', 'e69aff66e0cb', 'e6ddbaaf0639', 'e867b5133665', 'e8d0a37c3eba', 'ea0770830757', 'ebb6fae8ed43', 'ebd76e93ec7d', 'ece2561f07e9', 'ee4e0e3afd3d', 'eec197a4bdca', 'eef041dd50aa', 'efbfc4526d58', 'f0482490923c', 'f2c2436cf7b7', 'f564985ab692', 'f56824b503a0', 'f6d2cc003183', 'f7eb179216c2', 'f88e18cb4100', 'f8a8da8bdd00', 'f981a0805fd0', 'fa149c3c4bde', 'fb223ed2278c', 'fbf33b1a2c10', 'fcca183903b7', 'fe90110788d2']\n"
          ]
        }
      ]
    },
    {
      "cell_type": "code",
      "source": [
        "train_events = train_events[pd.notna(train_events['step'])]"
      ],
      "metadata": {
        "id": "d-OFDsWmd3B-"
      },
      "execution_count": 3,
      "outputs": []
    },
    {
      "cell_type": "code",
      "source": [
        "data_root = 'data'"
      ],
      "metadata": {
        "id": "4YdK6fTmEtuN"
      },
      "execution_count": 4,
      "outputs": []
    },
    {
      "cell_type": "code",
      "source": [
        "series_schema = pa.schema([\n",
        "    ('series_id', pa.string()),\n",
        "    ('step', pa.uint32()),\n",
        "    ('timestamp', pa.string()),\n",
        "    ('anglez', pa.float32()),\n",
        "    ('enmo', pa.float32())\n",
        "])\n",
        "\n",
        "train_series = pyarrow.parquet.read_table(os.path.join(data_root, 'train_series.parquet'), schema=series_schema)"
      ],
      "metadata": {
        "id": "BgG-yNDfQ27R"
      },
      "execution_count": 5,
      "outputs": []
    },
    {
      "cell_type": "code",
      "source": [
        "X = [] # input data\n",
        "Y = [] # labels"
      ],
      "metadata": {
        "id": "aOr3U6qgGAm7"
      },
      "execution_count": 16,
      "outputs": []
    },
    {
      "cell_type": "code",
      "source": [
        "from datetime import datetime\n",
        "from sklearn.preprocessing import StandardScaler\n",
        "from sklearn.model_selection import train_test_split"
      ],
      "metadata": {
        "id": "stWBFq4vLukB"
      },
      "execution_count": 7,
      "outputs": []
    },
    {
      "cell_type": "code",
      "source": [
        "def get_timeofday(date):\n",
        "  return date.second // 5 + date.minute * 12 + date.hour * 720"
      ],
      "metadata": {
        "id": "VZJIeJTcF3b5"
      },
      "execution_count": 8,
      "outputs": []
    },
    {
      "cell_type": "code",
      "source": [
        "def get_timeofday_series(len_series, first_step_of_day):\n",
        "  valuesForDay = np.linspace(0, 1, 17280, endpoint= True)\n",
        "  series = np.empty(len_series)\n",
        "  idx = 17280 - first_step_of_day\n",
        "  series[0:idx] = valuesForDay[first_step_of_day:]\n",
        "  while (idx < len_series):\n",
        "    series[idx:idx+17280] = valuesForDay[:min(17280, len_series - idx)]\n",
        "    idx += 17280\n",
        "  return series"
      ],
      "metadata": {
        "id": "MZZnflaiRdIo"
      },
      "execution_count": 9,
      "outputs": []
    },
    {
      "cell_type": "code",
      "source": [
        "def preprocess_series(series_id):\n",
        "  series = train_series.filter(pa.compute.field('series_id') == series_id)\n",
        "  events = train_events[train_events['series_id'] == series_id].reset_index()\n",
        "\n",
        "  len_series = len(series)\n",
        "  series_data = np.empty([3, len_series])\n",
        "  labels = np.zeros([2, len_series], dtype='int32')\n",
        "\n",
        "  series_data[1] = series['enmo'].to_numpy()\n",
        "  series_data[2] = series['anglez'].to_numpy()\n",
        "\n",
        "  series_data[1] = StandardScaler().fit_transform(series_data[1].reshape(-1, 1)).reshape(-1,)\n",
        "  series_data[2] = StandardScaler().fit_transform(series_data[2].reshape(-1, 1)).reshape(-1,)\n",
        "\n",
        "  start_time_str = series['timestamp'][0].as_py()[:-5]\n",
        "  start_time = get_timeofday(datetime.strptime(start_time_str, '%Y-%m-%dT%H:%M:%S'))\n",
        "\n",
        "  series_data[0] = get_timeofday_series(len_series, start_time)\n",
        "\n",
        "  for i in range(0, len(events)):\n",
        "    if pd.isna(events['step'][i]):\n",
        "      continue\n",
        "    if i % 2 == 0:\n",
        "      labels[0, events['step'][i]] = 1\n",
        "    elif i % 2 == 1:\n",
        "      labels[1, events['step'][i]] = 1\n",
        "\n",
        "  return series_data, labels"
      ],
      "metadata": {
        "id": "zQIFLznGPXbx"
      },
      "execution_count": 10,
      "outputs": []
    },
    {
      "cell_type": "code",
      "source": [
        "for idx, series_id in enumerate(series_list):\n",
        "  print(f'[{idx + 1}/{n_series}] Processing series {series_id}')\n",
        "  series, labels = preprocess_series(series_id)\n",
        "  # temp memory deallocation to prevent crash in colab\n",
        "  if idx == 150:\n",
        "    train_series = train_series[50_000_000:]\n",
        "    gc.collect()\n",
        "  X.append(series)\n",
        "  Y.append(labels)"
      ],
      "metadata": {
        "colab": {
          "base_uri": "https://localhost:8080/"
        },
        "id": "XEyAGgp6GGBN",
        "outputId": "6139ac6b-3784-430f-8556-9f88f60cade9"
      },
      "execution_count": 11,
      "outputs": [
        {
          "output_type": "stream",
          "name": "stdout",
          "text": [
            "[1/277] Processing series 038441c925bb\n",
            "[2/277] Processing series 03d92c9f6f8a\n",
            "[3/277] Processing series 0402a003dae9\n",
            "[4/277] Processing series 04f547b8017d\n",
            "[5/277] Processing series 05e1944c3818\n",
            "[6/277] Processing series 062cae666e2a\n",
            "[7/277] Processing series 062dbd4c95e6\n",
            "[8/277] Processing series 08db4255286f\n",
            "[9/277] Processing series 0a96f4993bd7\n",
            "[10/277] Processing series 0cd1e3d0ed95\n",
            "[11/277] Processing series 0ce74d6d2106\n",
            "[12/277] Processing series 0cfc06c129cc\n",
            "[13/277] Processing series 0d0ad1e77851\n",
            "[14/277] Processing series 0dee4fda51c3\n",
            "[15/277] Processing series 0ec9fc461819\n",
            "[16/277] Processing series 0ef7d94fde99\n",
            "[17/277] Processing series 0f572d690310\n",
            "[18/277] Processing series 0f9e60a8e56d\n",
            "[19/277] Processing series 10469f6765bf\n",
            "[20/277] Processing series 1087d7b0ff2e\n",
            "[21/277] Processing series 10f8bc1f7b07\n",
            "[22/277] Processing series 12d01911d509\n",
            "[23/277] Processing series 1319a1935f48\n",
            "[24/277] Processing series 137771d19ca2\n",
            "[25/277] Processing series 137b99e936ab\n",
            "[26/277] Processing series 13b4d6a01d27\n",
            "[27/277] Processing series 148471991ffb\n",
            "[28/277] Processing series 154fe824ed87\n",
            "[29/277] Processing series 16fe2798ed0f\n",
            "[30/277] Processing series 1716cd4163b2\n",
            "[31/277] Processing series 1762ab70ec76\n",
            "[32/277] Processing series 188d4b7cd28b\n",
            "[33/277] Processing series 18a0ca03431d\n",
            "[34/277] Processing series 18b61dd5aae8\n",
            "[35/277] Processing series 1955d568d987\n",
            "[36/277] Processing series 1b92be89db4c\n",
            "[37/277] Processing series 1c7c0bad1263\n",
            "[38/277] Processing series 1d4569cbac0f\n",
            "[39/277] Processing series 1e6717d93c1d\n",
            "[40/277] Processing series 1f96b9668bdf\n",
            "[41/277] Processing series 207eded97727\n",
            "[42/277] Processing series 25e2b3dd9c3b\n",
            "[43/277] Processing series 2654a87be968\n",
            "[44/277] Processing series 27f09a6a858f\n",
            "[45/277] Processing series 280e08693c6d\n",
            "[46/277] Processing series 292a75c0b94e\n",
            "[47/277] Processing series 29c75c018220\n",
            "[48/277] Processing series 29d3469bd15d\n",
            "[49/277] Processing series 2b0a1fa8eba8\n",
            "[50/277] Processing series 2b8d87addea9\n",
            "[51/277] Processing series 2cd2340ca14d\n",
            "[52/277] Processing series 2e9ced2c7976\n",
            "[53/277] Processing series 2f7504d0f426\n",
            "[54/277] Processing series 2fbbee1a38e3\n",
            "[55/277] Processing series 2fc653ca75c7\n",
            "[56/277] Processing series 31011ade7c0a\n",
            "[57/277] Processing series 3318a0e3ed6f\n",
            "[58/277] Processing series 33ceeba8918a\n",
            "[59/277] Processing series 3452b878e596\n",
            "[60/277] Processing series 349c5562ee2c\n",
            "[61/277] Processing series 35826366dfc7\n",
            "[62/277] Processing series 361366da569e\n",
            "[63/277] Processing series 3664fe9233f9\n",
            "[64/277] Processing series 3665c86afaf5\n",
            "[65/277] Processing series 390b487231ce\n",
            "[66/277] Processing series 3a9a9dc2cbd9\n",
            "[67/277] Processing series 3aceb17ef7bd\n",
            "[68/277] Processing series 3be1545083b7\n",
            "[69/277] Processing series 3be2f86c3e45\n",
            "[70/277] Processing series 3c336d6ba566\n",
            "[71/277] Processing series 3d53bfea61d6\n",
            "[72/277] Processing series 3df0da2e5966\n",
            "[73/277] Processing series 405df1b41f9f\n",
            "[74/277] Processing series 40dce6018935\n",
            "[75/277] Processing series 416354edd92a\n",
            "[76/277] Processing series 449766346eb1\n",
            "[77/277] Processing series 44a41bba1ee7\n",
            "[78/277] Processing series 44d8c02b369e\n",
            "[79/277] Processing series 4743bdde25df\n",
            "[80/277] Processing series 483d6545417f\n",
            "[81/277] Processing series 4a31811f3558\n",
            "[82/277] Processing series 4ab54be1a403\n",
            "[83/277] Processing series 4ac356361be9\n",
            "[84/277] Processing series 4b45c36f8f5a\n",
            "[85/277] Processing series 4feda0596965\n",
            "[86/277] Processing series 519ae2d858b0\n",
            "[87/277] Processing series 51b23d177971\n",
            "[88/277] Processing series 51c49c540b4e\n",
            "[89/277] Processing series 51fdcc8d9fe7\n",
            "[90/277] Processing series 559ffb7c166a\n",
            "[91/277] Processing series 55a47ff9dc8a\n",
            "[92/277] Processing series 55b7f5c99930\n",
            "[93/277] Processing series 599ca4ed791b\n",
            "[94/277] Processing series 5aad18e7ce64\n",
            "[95/277] Processing series 5acc9d63b5fd\n",
            "[96/277] Processing series 5c088d7e916c\n",
            "[97/277] Processing series 5c55a5e717d6\n",
            "[98/277] Processing series 5e816f11f5c3\n",
            "[99/277] Processing series 5f40907ec171\n",
            "[100/277] Processing series 5f76965e10cf\n",
            "[101/277] Processing series 5f94bb3e1bed\n",
            "[102/277] Processing series 5ffd5e1e81ac\n",
            "[103/277] Processing series 601559e1777d\n",
            "[104/277] Processing series 60d31b0bec3b\n",
            "[105/277] Processing series 60e51cad2ffb\n",
            "[106/277] Processing series 612aa8ba44e2\n",
            "[107/277] Processing series 653622ac8363\n",
            "[108/277] Processing series 655f19eabf1e\n",
            "[109/277] Processing series 67f5fc60e494\n",
            "[110/277] Processing series 694faf956ebf\n",
            "[111/277] Processing series 6a4cd123bd69\n",
            "[112/277] Processing series 6bf95a3cf91c\n",
            "[113/277] Processing series 6ca4f4fca6a2\n",
            "[114/277] Processing series 6d6b9d22d48a\n",
            "[115/277] Processing series 6ee4ade1f2bd\n",
            "[116/277] Processing series 702bb5387b1e\n",
            "[117/277] Processing series 703b5efa9bc1\n",
            "[118/277] Processing series 72ba4a8afff4\n",
            "[119/277] Processing series 72bbd1ac3edf\n",
            "[120/277] Processing series 72d2234e84e4\n",
            "[121/277] Processing series 73fb772e50fb\n",
            "[122/277] Processing series 7476c0bd18d2\n",
            "[123/277] Processing series 7504165f497d\n",
            "[124/277] Processing series 752900afe3a6\n",
            "[125/277] Processing series 76237b9406d5\n",
            "[126/277] Processing series 77ca4db83644\n",
            "[127/277] Processing series 7822ee8fe3ec\n",
            "[128/277] Processing series 78569a801a38\n",
            "[129/277] Processing series 785c9ca4eff7\n",
            "[130/277] Processing series 7df249527c63\n",
            "[131/277] Processing series 7fd4284b7ee8\n",
            "[132/277] Processing series 804594bb1f06\n",
            "[133/277] Processing series 808652a666c6\n",
            "[134/277] Processing series 83fa182bec3a\n",
            "[135/277] Processing series 844f54dcab89\n",
            "[136/277] Processing series 854206f602d0\n",
            "[137/277] Processing series 87a6cbb7c4ed\n",
            "[138/277] Processing series 8877a6586606\n",
            "[139/277] Processing series 8898e6db816d\n",
            "[140/277] Processing series 89bd631d1769\n",
            "[141/277] Processing series 89c7daa72eee\n",
            "[142/277] Processing series 8a22387617c3\n",
            "[143/277] Processing series 8a306e0890c0\n",
            "[144/277] Processing series 8b159a98f485\n",
            "[145/277] Processing series 8b8b9e29171c\n",
            "[146/277] Processing series 8becc76ea607\n",
            "[147/277] Processing series 8e32047cbc1f\n",
            "[148/277] Processing series 8f6f15b9f598\n",
            "[149/277] Processing series 8fb18e36697d\n",
            "[150/277] Processing series 90eac42a9ec9\n",
            "[151/277] Processing series 91127c2b0e60\n",
            "[152/277] Processing series 91cb6c98201f\n",
            "[153/277] Processing series 9277be28a1cf\n",
            "[154/277] Processing series 927dd0c35dfd\n",
            "[155/277] Processing series 939932f1822d\n",
            "[156/277] Processing series 971207c6a525\n",
            "[157/277] Processing series 99237ce045e4\n",
            "[158/277] Processing series 99b829cbad2d\n",
            "[159/277] Processing series 9a340507e36a\n",
            "[160/277] Processing series 9aed9ee12ae2\n",
            "[161/277] Processing series 9b9cd7b7af8c\n",
            "[162/277] Processing series 9c91c546e095\n",
            "[163/277] Processing series 9ddd40f2cb36\n",
            "[164/277] Processing series 9ee455e4770d\n",
            "[165/277] Processing series 9fbdeffbe2ba\n",
            "[166/277] Processing series a167532acca2\n",
            "[167/277] Processing series a261bc4b7470\n",
            "[168/277] Processing series a2b0a64ec9cf\n",
            "[169/277] Processing series a3e59c2ce3f6\n",
            "[170/277] Processing series a4e48102f402\n",
            "[171/277] Processing series a596ad0b82aa\n",
            "[172/277] Processing series a681f9b04b21\n",
            "[173/277] Processing series a81f4472c637\n",
            "[174/277] Processing series a88088855de5\n",
            "[175/277] Processing series a9a2f7fac455\n",
            "[176/277] Processing series a9e5f5314bcb\n",
            "[177/277] Processing series aa81faa78747\n",
            "[178/277] Processing series ad425f3ee76d\n",
            "[179/277] Processing series aed3850f65f0\n",
            "[180/277] Processing series af91d9a50547\n",
            "[181/277] Processing series b1831c4979da\n",
            "[182/277] Processing series b364205aba43\n",
            "[183/277] Processing series b4b75225b224\n",
            "[184/277] Processing series b7188813d58a\n",
            "[185/277] Processing series b737f8c78ec5\n",
            "[186/277] Processing series b750c8c1556c\n",
            "[187/277] Processing series b7fc34995d0f\n",
            "[188/277] Processing series b84960841a75\n",
            "[189/277] Processing series ba8083a2c3b8\n",
            "[190/277] Processing series bb5612895813\n",
            "[191/277] Processing series bccf2f2819f8\n",
            "[192/277] Processing series bdfce9ce62b9\n",
            "[193/277] Processing series bf00506437aa\n",
            "[194/277] Processing series bfa54bd26187\n",
            "[195/277] Processing series bfe41e96d12f\n",
            "[196/277] Processing series c107b5789660\n",
            "[197/277] Processing series c289c8a823e0\n",
            "[198/277] Processing series c3072a759efb\n",
            "[199/277] Processing series c38707ef76df\n",
            "[200/277] Processing series c535634d7dcd\n",
            "[201/277] Processing series c5365a55ebb7\n",
            "[202/277] Processing series c5d08fc3e040\n",
            "[203/277] Processing series c6788e579967\n",
            "[204/277] Processing series c68260cc9e8f\n",
            "[205/277] Processing series c75b4b207bea\n",
            "[206/277] Processing series c7b1283bb7eb\n",
            "[207/277] Processing series c7b2155a4a47\n",
            "[208/277] Processing series c7d693f24684\n",
            "[209/277] Processing series c8053490cec2\n",
            "[210/277] Processing series c908a0ad3e31\n",
            "[211/277] Processing series ca730dbf521d\n",
            "[212/277] Processing series ca732a3c37f7\n",
            "[213/277] Processing series cca14d1966c1\n",
            "[214/277] Processing series ccdee561ee5d\n",
            "[215/277] Processing series ce85771a714c\n",
            "[216/277] Processing series ce9164297046\n",
            "[217/277] Processing series cf13ed7e457a\n",
            "[218/277] Processing series cfeb11428dd7\n",
            "[219/277] Processing series d043c0ca71cd\n",
            "[220/277] Processing series d0f613c700f7\n",
            "[221/277] Processing series d150801f3145\n",
            "[222/277] Processing series d25e479ecbb7\n",
            "[223/277] Processing series d2d6b9af0553\n",
            "[224/277] Processing series d2fef7e4defd\n",
            "[225/277] Processing series d3dddd3c0e00\n",
            "[226/277] Processing series d515236bdeec\n",
            "[227/277] Processing series d5be621fd9aa\n",
            "[228/277] Processing series d5e47b94477e\n",
            "[229/277] Processing series d8de352c2657\n",
            "[230/277] Processing series d93b0c7de16b\n",
            "[231/277] Processing series d9e887091a5c\n",
            "[232/277] Processing series dacc6d652e35\n",
            "[233/277] Processing series db5e0ee1c0ab\n",
            "[234/277] Processing series db75092f0530\n",
            "[235/277] Processing series dc80ca623d71\n",
            "[236/277] Processing series de6fedfb6139\n",
            "[237/277] Processing series def21f50dd3c\n",
            "[238/277] Processing series df33ae359fb5\n",
            "[239/277] Processing series dfc3ccebfdc9\n",
            "[240/277] Processing series dff367373725\n",
            "[241/277] Processing series e0686434d029\n",
            "[242/277] Processing series e0d7b0dcf9f3\n",
            "[243/277] Processing series e11b9d69f856\n",
            "[244/277] Processing series e1f2a4f991cb\n",
            "[245/277] Processing series e1f5abb82285\n",
            "[246/277] Processing series e2a849d283c0\n",
            "[247/277] Processing series e2b60820c325\n",
            "[248/277] Processing series e30cb792a2bc\n",
            "[249/277] Processing series e34b496b84ce\n",
            "[250/277] Processing series e4500e7e19e1\n",
            "[251/277] Processing series e586cbfa7762\n",
            "[252/277] Processing series e69aff66e0cb\n",
            "[253/277] Processing series e6ddbaaf0639\n",
            "[254/277] Processing series e867b5133665\n",
            "[255/277] Processing series e8d0a37c3eba\n",
            "[256/277] Processing series ea0770830757\n",
            "[257/277] Processing series ebb6fae8ed43\n",
            "[258/277] Processing series ebd76e93ec7d\n",
            "[259/277] Processing series ece2561f07e9\n",
            "[260/277] Processing series ee4e0e3afd3d\n",
            "[261/277] Processing series eec197a4bdca\n",
            "[262/277] Processing series eef041dd50aa\n",
            "[263/277] Processing series efbfc4526d58\n",
            "[264/277] Processing series f0482490923c\n",
            "[265/277] Processing series f2c2436cf7b7\n",
            "[266/277] Processing series f564985ab692\n",
            "[267/277] Processing series f56824b503a0\n",
            "[268/277] Processing series f6d2cc003183\n",
            "[269/277] Processing series f7eb179216c2\n",
            "[270/277] Processing series f88e18cb4100\n",
            "[271/277] Processing series f8a8da8bdd00\n",
            "[272/277] Processing series f981a0805fd0\n",
            "[273/277] Processing series fa149c3c4bde\n",
            "[274/277] Processing series fb223ed2278c\n",
            "[275/277] Processing series fbf33b1a2c10\n",
            "[276/277] Processing series fcca183903b7\n",
            "[277/277] Processing series fe90110788d2\n"
          ]
        }
      ]
    },
    {
      "cell_type": "code",
      "source": [
        "train_series = None\n",
        "gc.collect()"
      ],
      "metadata": {
        "colab": {
          "base_uri": "https://localhost:8080/"
        },
        "id": "Q3f8NOYDTEBn",
        "outputId": "abb4ffd5-c09b-4e97-f4a5-da3c32076846"
      },
      "execution_count": 12,
      "outputs": [
        {
          "output_type": "execute_result",
          "data": {
            "text/plain": [
              "0"
            ]
          },
          "metadata": {},
          "execution_count": 12
        }
      ]
    },
    {
      "cell_type": "code",
      "source": [
        "print(len(X))\n",
        "print(len(Y))"
      ],
      "metadata": {
        "colab": {
          "base_uri": "https://localhost:8080/"
        },
        "id": "RmdvaiVuagZF",
        "outputId": "1e05b819-71a4-4c9e-b747-bdbe31bb3cb3"
      },
      "execution_count": 13,
      "outputs": [
        {
          "output_type": "stream",
          "name": "stdout",
          "text": [
            "277\n",
            "277\n"
          ]
        }
      ]
    },
    {
      "cell_type": "code",
      "source": [
        "X_train, X_valid, Y_train, Y_valid = train_test_split(X, Y, test_size=0.15)"
      ],
      "metadata": {
        "id": "tJRX2lfqhxdl"
      },
      "execution_count": 14,
      "outputs": []
    },
    {
      "cell_type": "code",
      "source": [
        "print(len(X_train), len(Y_train))\n",
        "print(len(X_valid), len(Y_valid))"
      ],
      "metadata": {
        "colab": {
          "base_uri": "https://localhost:8080/"
        },
        "id": "bM23ni1nia2x",
        "outputId": "2067782a-52b9-4552-91fa-7bced0c07b18"
      },
      "execution_count": 15,
      "outputs": [
        {
          "output_type": "stream",
          "name": "stdout",
          "text": [
            "235 235\n",
            "42 42\n"
          ]
        }
      ]
    }
  ]
}